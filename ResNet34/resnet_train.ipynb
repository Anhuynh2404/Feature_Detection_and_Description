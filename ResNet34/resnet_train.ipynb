{
 "cells": [
  {
   "cell_type": "code",
   "execution_count": 1,
   "id": "1f80c428",
   "metadata": {},
   "outputs": [],
   "source": [
    "\n",
    "from data import *\n",
    "from model import *\n",
    "from test import *\n",
    "import matplotlib.pyplot as plt\n",
    "import numpy as np\n",
    "\n",
    "# ==== Trainer Class ====\n",
    "\n",
    "class trainer:\n",
    "    def __init__(self, model, dataset, num_classes, init_lr):\n",
    "        self.dataset = dataset\n",
    "        self.net = model\n",
    "        self.lr = init_lr\n",
    "        self.cls_num = num_classes\n",
    "\n",
    "    def set_lr(self, lr):\n",
    "        self.lr = lr\n",
    "\n",
    "    def iterate(self):\n",
    "        images, labels = self.dataset.get_next_batch()\n",
    "\n",
    "        out_tensor = self.net.forward(images)\n",
    "\n",
    "        # Tạo one-hot labels từ nhãn 0–9\n",
    "        if self.cls_num > 1:\n",
    "            one_hot_labels = np.eye(self.cls_num)[labels.reshape(-1)].reshape(out_tensor.shape)\n",
    "        else:\n",
    "            one_hot_labels = labels.reshape(out_tensor.shape)\n",
    "\n",
    "        # Cross-entropy loss\n",
    "        loss = np.sum(-one_hot_labels * np.log(out_tensor) - (1 - one_hot_labels) * np.log(1 - out_tensor)) / self.dataset.batch_size\n",
    "\n",
    "        # Đạo hàm loss\n",
    "        out_diff_tensor = (out_tensor - one_hot_labels) / out_tensor / (1 - out_tensor) / self.dataset.batch_size\n",
    "\n",
    "        self.net.backward(out_diff_tensor, self.lr)\n",
    "\n",
    "        return loss\n"
   ]
  },
  {
   "cell_type": "code",
   "execution_count": null,
   "id": "e6dc6e4a",
   "metadata": {},
   "outputs": [],
   "source": [
    "# ==== Thiết lập huấn luyện ====\n",
    "\n",
    "batch_size = 8\n",
    "image_h = 128\n",
    "image_w = 128\n",
    "num_classes = 10\n",
    "init_lr = 0.01\n",
    "\n",
    "dataset = dataloader(\"/home/an/an_workplace/Lab_CV/train.txt\", batch_size, image_h, image_w)\n",
    "model = resnet34(num_classes)\n",
    "train = trainer(model, dataset, num_classes, init_lr)\n",
    "\n",
    "loss = []\n",
    "accurate = []\n",
    "temp = 0\n",
    "model.train()\n"
   ]
  }
 ],
 "metadata": {
  "kernelspec": {
   "display_name": "cv_env_py311",
   "language": "python",
   "name": "python3"
  },
  "language_info": {
   "codemirror_mode": {
    "name": "ipython",
    "version": 3
   },
   "file_extension": ".py",
   "mimetype": "text/x-python",
   "name": "python",
   "nbconvert_exporter": "python",
   "pygments_lexer": "ipython3",
   "version": "3.11.11"
  }
 },
 "nbformat": 4,
 "nbformat_minor": 5
}
