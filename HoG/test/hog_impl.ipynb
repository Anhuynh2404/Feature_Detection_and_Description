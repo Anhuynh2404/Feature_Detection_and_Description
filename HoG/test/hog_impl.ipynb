{
 "cells": [
  {
   "cell_type": "code",
   "execution_count": 3,
   "id": "c1f5cf02",
   "metadata": {},
   "outputs": [],
   "source": [
    "import skimage.io, skimage.color\n",
    "import numpy\n",
    "import matplotlib.pyplot\n",
    "import HOG"
   ]
  },
  {
   "cell_type": "code",
   "execution_count": 5,
   "id": "f841e20e",
   "metadata": {},
   "outputs": [],
   "source": [
    "img = skimage.io.imread(\"/home/an/an_workplace/Lab_CV/Data/ozil.png\")\n",
    "if img.shape[-1] == 4:\n",
    "    img = img[:, :, :3]\n",
    "img = skimage.color.rgb2gray(img)\n",
    "\n",
    "horizontal_mask = numpy.array([-1, 0, 1])\n",
    "vertical_mask = numpy.array([[-1],\n",
    "                             [0],\n",
    "                             [1]])"
   ]
  },
  {
   "cell_type": "code",
   "execution_count": 6,
   "id": "18196e05",
   "metadata": {},
   "outputs": [
    {
     "data": {
      "image/png": "[encoded data removed]",
      "text/plain": [
       "<Figure size 640x480 with 1 Axes>"
      ]
     },
     "metadata": {},
     "output_type": "display_data"
    }
   ],
   "source": [
    "horizontal_gradient = HOG.calculate_gradient(img, horizontal_mask)\n",
    "vertical_gradient = HOG.calculate_gradient(img, vertical_mask)\n",
    "\n",
    "grad_magnitude = HOG.gradient_magnitude(horizontal_gradient, vertical_gradient)\n",
    "grad_direction = HOG.gradient_direction(horizontal_gradient, vertical_gradient)\n",
    "\n",
    "grad_direction = grad_direction % 180\n",
    "hist_bins = numpy.array([10,30,50,70,90,110,130,150,170])\n",
    "\n",
    "# Histogram of the first cell in the first block.\n",
    "cell_direction = grad_direction[:8, :8]\n",
    "cell_magnitude = grad_magnitude[:8, :8]\n",
    "HOG_cell_hist = HOG.HOG_cell_histogram(cell_direction, cell_magnitude, hist_bins)\n",
    "\n",
    "matplotlib.pyplot.bar(x=numpy.arange(9), height=HOG_cell_hist, align=\"center\", width=0.8)\n",
    "matplotlib.pyplot.show()"
   ]
  }
 ],
 "metadata": {
  "kernelspec": {
   "display_name": "cv_env",
   "language": "python",
   "name": "python3"
  },
  "language_info": {
   "codemirror_mode": {
    "name": "ipython",
    "version": 3
   },
   "file_extension": ".py",
   "mimetype": "text/x-python",
   "name": "python",
   "nbconvert_exporter": "python",
   "pygments_lexer": "ipython3",
   "version": "-1.-1.-1"
  }
 },
 "nbformat": 4,
 "nbformat_minor": 5
}
